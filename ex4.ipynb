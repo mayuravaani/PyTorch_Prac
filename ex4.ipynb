{
 "cells": [
  {
   "cell_type": "code",
   "execution_count": 3,
   "metadata": {},
   "outputs": [
    {
     "name": "stdout",
     "output_type": "stream",
     "text": [
      "nt\n",
      "C:\\Users\\Mayu\\PyTorch_Prac\n",
      "C:\\Users\\Mayu\\PyTorch_Prac\n",
      "['.git', '.ipynb_checkpoints', '00002.jpg', 'cat.jpg', 'data', 'ex1.ipynb', 'ex2.ipynb', 'ex3.ipynb', 'ex4.ipynb', 'ex5.ipynb', 'hello.txt']\n",
      "problem reading: abc.txt\n",
      "Hi\n"
     ]
    }
   ],
   "source": [
    "# os used to interact with the operating system\n",
    "import os\n",
    "print(os.name) # This function gives the name of the operating system dependent module imported.\n",
    "print(os.getcwd()) # give the current working directory\n",
    "print(os.path.abspath('.')) # give the absolute path\n",
    "print(os.listdir('.')) #print all files in the current directory\n",
    "#os.error- in the case of invalid or inaccessible file names and paths, or other arguments that have the correct type, but are not accepted by the operating system. os.error is an alias for built-in OSError exception.\n",
    "try: \n",
    "    filename = 'abc.txt'\n",
    "    f = open(filename)\n",
    "    text = f.read()\n",
    "    f.close()\n",
    "except IOError:\n",
    "    print('problem reading: ' + filename)\n",
    "# This method opens a pipe to or from command. The return value can be read or written depending on whether mode is ‘r’ or ‘w’.\n",
    "filename = \"hello.txt\"\n",
    "#popen is sam as open\n",
    "file = open(filename, 'w')\n",
    "file.write(\"Hi\")\n",
    "file.close()\n",
    "file = open(filename, 'r')\n",
    "text = file.read()\n",
    "print(text)\n",
    "\n",
    "file = os. popen(filename, 'w')\n",
    "file.write(\"Hello\")\n",
    "#  A file opened using open(), can be closed by close()only. But file opened through os.popen(), can be closed with close() or os.close(). If we try closing a file opened with open(), using os.close(), Python would throw TypeError.\n",
    "file.close() "
   ]
  },
  {
   "cell_type": "code",
   "execution_count": 4,
   "metadata": {},
   "outputs": [],
   "source": [
    "#  A file old.txt can be renamed to new.txt, using the function os.rename(). The name of the file changes only if, the file exists and user has sufficient privilege permission to change the file.\n",
    "fd = \"hello.txt\"\n",
    "os.rename(fd,'new.txt') \n",
    "os.rename('new.txt',fd) "
   ]
  },
  {
   "cell_type": "code",
   "execution_count": 5,
   "metadata": {},
   "outputs": [
    {
     "name": "stdout",
     "output_type": "stream",
     "text": [
      "0    1\n",
      "1    2\n",
      "2    3\n",
      "3    4\n",
      "4    5\n",
      "dtype: int64\n",
      "a    1\n",
      "b    2\n",
      "c    3\n",
      "d    4\n",
      "e    5\n",
      "dtype: int64\n",
      "a    1\n",
      "b    2\n",
      "c    3\n",
      "dtype: int64\n",
      "0    [2, 3, 4]\n",
      "1    [5, 6, 7]\n",
      "dtype: object\n"
     ]
    }
   ],
   "source": [
    "# pandas - python library used for data analysis\n",
    "''' we can analyze data in pandas with Series and DataFrames\n",
    "Series\n",
    "Series is 1-D array defined in pandas that can be used to store any data type.\n",
    "DataFrames\n",
    "DataFrame is 2-D data structure defined in pandas that consists of rows and columns.\n",
    "Creating series\n",
    "    Data can be scalar value which can be integer value, string\n",
    "    Python Dictionary which can be key, value pair\n",
    "    Ndarray \n",
    "    \n",
    "Creating DataFrames\n",
    "    dictionaries\n",
    "    series\n",
    "    2D-numpy array'''\n",
    "import pandas as pd\n",
    "Data = [1, 2, 3, 4, 5]\n",
    "s = pd.Series(Data)\n",
    "print(s)\n",
    "Index =['a', 'b', 'c', 'd', 'e']\n",
    "si = pd.Series(Data, Index)\n",
    "print(si) \n",
    "dictionary = {'a':1, 'b':2, 'c':3}\n",
    "sd = pd.Series(dictionary)\n",
    "print(sd)\n",
    "Data2 = [[2, 3, 4], [5, 6, 7]]\n",
    "snd = pd.Series(Data2)\n",
    "print(snd)"
   ]
  },
  {
   "cell_type": "code",
   "execution_count": 6,
   "metadata": {},
   "outputs": [
    {
     "name": "stdout",
     "output_type": "stream",
     "text": [
      "   first  second\n",
      "1      1     4.0\n",
      "2      2     5.0\n",
      "3      3     6.0\n",
      "4      8     NaN\n",
      "   first  second third\n",
      "0      1     1.1     a\n",
      "1      3     3.5     b\n",
      "2      4     4.7     c\n",
      "3      5     5.8     d\n",
      "4      6     2.9     e\n",
      "5      2     9.3   NaN\n",
      "6      9     NaN   NaN\n",
      "       first     second\n",
      "0  [2, 3, 4]  [2, 4, 8]\n",
      "1  [5, 6, 7]  [1, 3, 9]\n"
     ]
    }
   ],
   "source": [
    "a = pd.DataFrame(Data)\n",
    "# dictionary\n",
    "dict1 = {1:1, 2:2, 3:3, 4:8}\n",
    "dict2 = {1:4, 2:5, 3:6}\n",
    "Data3 = {'first':dict1, 'second':dict2}\n",
    "df = pd.DataFrame(Data3)\n",
    "print(df)\n",
    "# series\n",
    "s1 = pd.Series([1, 3, 4, 5, 6, 2, 9])       \n",
    "s2 = pd.Series([1.1, 3.5, 4.7, 5.8, 2.9, 9.3])\n",
    "s3 = pd.Series(['a', 'b', 'c', 'd', 'e'])\n",
    "Data4 = {'first':s1, 'second':s2, 'third':s3}\n",
    "dfseries = pd.DataFrame(Data4)\n",
    "print(dfseries)\n",
    "# 2D-numpy array\n",
    "d1 =[[2, 3, 4], [5, 6, 7]] \n",
    "d2 =[[2, 4, 8], [1, 3, 9]] \n",
    "Data ={'first': d1, 'second': d2}  \n",
    "df2d = pd.DataFrame(Data)\n",
    "print(df2d)"
   ]
  },
  {
   "cell_type": "code",
   "execution_count": 7,
   "metadata": {},
   "outputs": [
    {
     "name": "stdout",
     "output_type": "stream",
     "text": [
      "C:\\Users\\Mayu\\PyTorch_Prac\\cat.jpg\n",
      "(224, 225, 3)\n"
     ]
    },
    {
     "data": {
      "text/plain": [
       "<Figure size 640x480 with 1 Axes>"
      ]
     },
     "metadata": {},
     "output_type": "display_data"
    }
   ],
   "source": [
    "# scikit-image - image processing python package that works with numpy arrays which is a colloection of algorithm form imgproc\n",
    "import skimage\n",
    "from skimage import io\n",
    "\n",
    "file = os.path.join(os.path.abspath('.'), 'cat.jpg')\n",
    "print(file)\n",
    "cat = io.imread(file)\n",
    "print(cat.shape)\n",
    "io.imshow(cat)\n",
    "io.show()"
   ]
  },
  {
   "cell_type": "code",
   "execution_count": 8,
   "metadata": {},
   "outputs": [
    {
     "name": "stderr",
     "output_type": "stream",
     "text": [
      "Clipping input data to the valid range for imshow with RGB data ([0..1] for floats or [0..255] for integers).\n"
     ]
    },
    {
     "name": "stdout",
     "output_type": "stream",
     "text": [
      "[[[119. 108. 102.]\n",
      "  [119. 108. 102.]\n",
      "  [107.  98.  95.]\n",
      "  ...\n",
      "  [128. 110. 100.]\n",
      "  [128. 110. 100.]\n",
      "  [129. 111. 101.]]\n",
      "\n",
      " [[119. 108. 102.]\n",
      "  [119. 108. 102.]\n",
      "  [104.  95.  92.]\n",
      "  ...\n",
      "  [128. 110. 100.]\n",
      "  [128. 110. 100.]\n",
      "  [128. 110. 100.]]\n",
      "\n",
      " [[113. 105.  99.]\n",
      "  [110. 101.  95.]\n",
      "  [ 90.  87.  86.]\n",
      "  ...\n",
      "  [129. 111. 101.]\n",
      "  [129. 111. 101.]\n",
      "  [129. 111. 101.]]\n",
      "\n",
      " ...\n",
      "\n",
      " [[ 40.  34.  33.]\n",
      "  [ 40.  33.  32.]\n",
      "  [ 43.  37.  39.]\n",
      "  ...\n",
      "  [ 41.  35.  41.]\n",
      "  [ 37.  31.  37.]\n",
      "  [ 33.  27.  33.]]\n",
      "\n",
      " [[ 46.  40.  36.]\n",
      "  [ 46.  40.  36.]\n",
      "  [ 42.  38.  38.]\n",
      "  ...\n",
      "  [ 39.  35.  42.]\n",
      "  [ 34.  30.  37.]\n",
      "  [ 29.  25.  32.]]\n",
      "\n",
      " [[ 44.  40.  37.]\n",
      "  [ 44.  40.  37.]\n",
      "  [ 48.  44.  45.]\n",
      "  ...\n",
      "  [ 32.  28.  35.]\n",
      "  [ 34.  30.  37.]\n",
      "  [ 34.  30.  37.]]]\n"
     ]
    },
    {
     "data": {
      "image/png": "[encoded data removed]",
      "text/plain": [
       "<Figure size 432x288 with 2 Axes>"
      ]
     },
     "metadata": {
      "needs_background": "light"
     },
     "output_type": "display_data"
    }
   ],
   "source": [
    "import warnings\n",
    "import numpy as np\n",
    "image = skimage.io.imread(file)\n",
    "if image.ndim != 3 or image.shape[2] != 3:\n",
    "    raise RuntimeError('input image must be in color')\n",
    "# resize\n",
    "image = skimage.transform.resize(image, [256, 256], mode='reflect', anti_aliasing=True)\n",
    "with warnings.catch_warnings():\n",
    "    warnings.simplefilter('ignore')\n",
    "    image = skimage.img_as_ubyte(image)\n",
    "# crop\n",
    "image = image[16:-16, 16:-16]\n",
    "# subtract the mean\n",
    "image = image.astype(np.float32) - np.array([124., 117., 104.], dtype=np.float32)\n",
    "# RGB to BGR\n",
    "image = image[:, :, ::-1]\n",
    "print(image)\n",
    "io.imshow(image)\n",
    "io.show()"
   ]
  },
  {
   "cell_type": "code",
   "execution_count": 13,
   "metadata": {},
   "outputs": [
    {
     "name": "stderr",
     "output_type": "stream",
     "text": [
      "Clipping input data to the valid range for imshow with RGB data ([0..1] for floats or [0..255] for integers).\n"
     ]
    },
    {
     "name": "stdout",
     "output_type": "stream",
     "text": [
      "[[[49. 36. 29.]\n",
      "  [48. 35. 28.]\n",
      "  [51. 37. 30.]\n",
      "  ...\n",
      "  [52. 39. 32.]\n",
      "  [49. 36. 29.]\n",
      "  [46. 33. 26.]]\n",
      "\n",
      " [[48. 35. 28.]\n",
      "  [47. 34. 27.]\n",
      "  [51. 36. 29.]\n",
      "  ...\n",
      "  [58. 45. 38.]\n",
      "  [55. 42. 35.]\n",
      "  [49. 36. 29.]]\n",
      "\n",
      " [[52. 37. 29.]\n",
      "  [52. 38. 30.]\n",
      "  [54. 35. 29.]\n",
      "  ...\n",
      "  [53. 40. 33.]\n",
      "  [51. 38. 31.]\n",
      "  [48. 35. 28.]]\n",
      "\n",
      " ...\n",
      "\n",
      " [[40. 29. 22.]\n",
      "  [38. 27. 20.]\n",
      "  [41. 30. 23.]\n",
      "  ...\n",
      "  [54. 44. 35.]\n",
      "  [55. 45. 36.]\n",
      "  [55. 45. 36.]]\n",
      "\n",
      " [[38. 27. 20.]\n",
      "  [36. 25. 18.]\n",
      "  [40. 29. 22.]\n",
      "  ...\n",
      "  [54. 44. 35.]\n",
      "  [55. 45. 36.]\n",
      "  [55. 45. 36.]]\n",
      "\n",
      " [[38. 27. 20.]\n",
      "  [36. 25. 18.]\n",
      "  [39. 28. 21.]\n",
      "  ...\n",
      "  [53. 43. 34.]\n",
      "  [53. 43. 34.]\n",
      "  [53. 43. 34.]]]\n"
     ]
    },
    {
     "data": {
      "image/png": "[encoded data removed]",
      "text/plain": [
       "<Figure size 432x288 with 2 Axes>"
      ]
     },
     "metadata": {
      "needs_background": "light"
     },
     "output_type": "display_data"
    }
   ],
   "source": [
    "import warnings\n",
    "import numpy as np\n",
    "file = os.path.join(os.path.abspath('.'), '00002.jpg')\n",
    "image = skimage.io.imread(file)\n",
    "if image.ndim != 3 or image.shape[2] != 3:\n",
    "    raise RuntimeError('input image must be in color')\n",
    "# resize\n",
    "image = skimage.transform.resize(image, [256, 256], mode='reflect', anti_aliasing=True)\n",
    "with warnings.catch_warnings():\n",
    "    warnings.simplefilter('ignore')\n",
    "    image = skimage.img_as_ubyte(image)\n",
    "# crop\n",
    "image = image[16:-16, 16:-16]\n",
    "# subtract the mean\n",
    "image = image.astype(np.float32) - np.array([124., 117., 104.], dtype=np.float32)\n",
    "# RGB to BGR\n",
    "image = image[:, :, ::-1]\n",
    "print(image)\n",
    "io.imshow(image)\n",
    "io.show()"
   ]
  },
  {
   "cell_type": "code",
   "execution_count": 14,
   "metadata": {},
   "outputs": [
    {
     "name": "stderr",
     "output_type": "stream",
     "text": [
      "C:\\ProgramData\\Anaconda3\\lib\\site-packages\\skimage\\io\\_plugins\\matplotlib_plugin.py:78: UserWarning: Float image out of standard range; displaying image with stretched contrast.\n",
      "  warn(\"Float image out of standard range; displaying \"\n",
      "Clipping input data to the valid range for imshow with RGB data ([0..1] for floats or [0..255] for integers).\n"
     ]
    },
    {
     "name": "stdout",
     "output_type": "stream",
     "text": [
      "[[[ 54.  44.  41.]\n",
      "  [ 54.  44.  41.]\n",
      "  [ 57.  50.  46.]\n",
      "  ...\n",
      "  [ 39.  30.  24.]\n",
      "  [ 41.  32.  26.]\n",
      "  [ 44.  35.  29.]]\n",
      "\n",
      " [[ 54.  44.  41.]\n",
      "  [ 55.  45.  42.]\n",
      "  [ 57.  50.  46.]\n",
      "  ...\n",
      "  [ 40.  31.  25.]\n",
      "  [ 42.  33.  27.]\n",
      "  [ 45.  37.  31.]]\n",
      "\n",
      " [[ 53.  48.  41.]\n",
      "  [ 52.  47.  40.]\n",
      "  [ 52.  48.  44.]\n",
      "  ...\n",
      "  [ 44.  36.  32.]\n",
      "  [ 46.  37.  33.]\n",
      "  [ 46.  38.  34.]]\n",
      "\n",
      " ...\n",
      "\n",
      " [[ 59.  50.  44.]\n",
      "  [ 58.  49.  43.]\n",
      "  [ 58.  48.  45.]\n",
      "  ...\n",
      "  [ 84.  76.  72.]\n",
      "  [ 93.  85.  81.]\n",
      "  [101.  93.  89.]]\n",
      "\n",
      " [[ 56.  47.  41.]\n",
      "  [ 55.  46.  40.]\n",
      "  [ 59.  49.  45.]\n",
      "  ...\n",
      "  [ 78.  70.  66.]\n",
      "  [ 87.  79.  75.]\n",
      "  [ 95.  87.  83.]]\n",
      "\n",
      " [[ 55.  46.  40.]\n",
      "  [ 57.  48.  42.]\n",
      "  [ 58.  48.  45.]\n",
      "  ...\n",
      "  [ 68.  60.  56.]\n",
      "  [ 76.  68.  64.]\n",
      "  [ 84.  76.  72.]]]\n"
     ]
    },
    {
     "data": {
      "image/png": "[encoded data removed]",
      "text/plain": [
       "<Figure size 432x288 with 2 Axes>"
      ]
     },
     "metadata": {
      "needs_background": "light"
     },
     "output_type": "display_data"
    }
   ],
   "source": [
    "import warnings\n",
    "import numpy as np\n",
    "file = os.path.join(os.path.abspath('.'), '00010.jpg')\n",
    "image = skimage.io.imread(file)\n",
    "if image.ndim != 3 or image.shape[2] != 3:\n",
    "    raise RuntimeError('input image must be in color')\n",
    "# resize\n",
    "image = skimage.transform.resize(image, [256, 256], mode='reflect', anti_aliasing=True)\n",
    "with warnings.catch_warnings():\n",
    "    warnings.simplefilter('ignore')\n",
    "    image = skimage.img_as_ubyte(image)\n",
    "# crop\n",
    "image = image[16:-16, 16:-16]\n",
    "# subtract the mean\n",
    "image = image.astype(np.float32) - np.array([124., 117., 104.], dtype=np.float32)\n",
    "# RGB to BGR\n",
    "image = image[:, :, ::-1]\n",
    "print(image)\n",
    "io.imshow(image)\n",
    "io.show()"
   ]
  },
  {
   "cell_type": "code",
   "execution_count": 16,
   "metadata": {},
   "outputs": [
    {
     "name": "stderr",
     "output_type": "stream",
     "text": [
      "C:\\ProgramData\\Anaconda3\\lib\\site-packages\\skimage\\io\\_plugins\\matplotlib_plugin.py:78: UserWarning: Float image out of standard range; displaying image with stretched contrast.\n",
      "  warn(\"Float image out of standard range; displaying \"\n",
      "Clipping input data to the valid range for imshow with RGB data ([0..1] for floats or [0..255] for integers).\n"
     ]
    },
    {
     "name": "stdout",
     "output_type": "stream",
     "text": [
      "[[[ 99.  95.  98.]\n",
      "  [100.  96.  99.]\n",
      "  [ 94.  85.  89.]\n",
      "  ...\n",
      "  [ 70.  67.  70.]\n",
      "  [ 70.  67.  70.]\n",
      "  [ 66.  63.  66.]]\n",
      "\n",
      " [[ 97.  93.  96.]\n",
      "  [ 99.  95.  98.]\n",
      "  [ 95.  86.  90.]\n",
      "  ...\n",
      "  [ 68.  65.  68.]\n",
      "  [ 68.  65.  68.]\n",
      "  [ 65.  62.  65.]]\n",
      "\n",
      " [[ 95.  91.  94.]\n",
      "  [ 95.  91.  94.]\n",
      "  [ 96.  87.  91.]\n",
      "  ...\n",
      "  [ 60.  58.  59.]\n",
      "  [ 58.  56.  57.]\n",
      "  [ 60.  58.  59.]]\n",
      "\n",
      " ...\n",
      "\n",
      " [[ 93.  91.  92.]\n",
      "  [ 92.  90.  91.]\n",
      "  [ 87.  85.  86.]\n",
      "  ...\n",
      "  [ 82.  78.  84.]\n",
      "  [ 89.  85.  91.]\n",
      "  [ 94.  90.  96.]]\n",
      "\n",
      " [[ 94.  92.  93.]\n",
      "  [ 96.  94.  95.]\n",
      "  [ 91.  89.  90.]\n",
      "  ...\n",
      "  [ 81.  77.  83.]\n",
      "  [ 88.  84.  90.]\n",
      "  [ 93.  89.  95.]]\n",
      "\n",
      " [[ 95.  93.  94.]\n",
      "  [100.  98.  99.]\n",
      "  [ 94.  92.  93.]\n",
      "  ...\n",
      "  [ 78.  74.  80.]\n",
      "  [ 83.  79.  85.]\n",
      "  [ 86.  82.  88.]]]\n"
     ]
    },
    {
     "data": {
      "image/png": "[encoded data removed]",
      "text/plain": [
       "<Figure size 432x288 with 2 Axes>"
      ]
     },
     "metadata": {
      "needs_background": "light"
     },
     "output_type": "display_data"
    }
   ],
   "source": [
    "import warnings\n",
    "import numpy as np\n",
    "file = os.path.join(os.path.abspath('.'), '00056.jpg')\n",
    "image = skimage.io.imread(file)\n",
    "if image.ndim != 3 or image.shape[2] != 3:\n",
    "    raise RuntimeError('input image must be in color')\n",
    "# resize\n",
    "image = skimage.transform.resize(image, [256, 256], mode='reflect', anti_aliasing=True)\n",
    "with warnings.catch_warnings():\n",
    "    warnings.simplefilter('ignore')\n",
    "    image = skimage.img_as_ubyte(image)\n",
    "# crop\n",
    "image = image[16:-16, 16:-16]\n",
    "# subtract the mean\n",
    "image = image.astype(np.float32) - np.array([124., 117., 104.], dtype=np.float32)\n",
    "# RGB to BGR\n",
    "image = image[:, :, ::-1]\n",
    "print(image)\n",
    "io.imshow(image)\n",
    "io.show()"
   ]
  },
  {
   "cell_type": "code",
   "execution_count": 19,
   "metadata": {},
   "outputs": [
    {
     "name": "stderr",
     "output_type": "stream",
     "text": [
      "C:\\ProgramData\\Anaconda3\\lib\\site-packages\\skimage\\io\\_plugins\\matplotlib_plugin.py:78: UserWarning: Float image out of standard range; displaying image with stretched contrast.\n",
      "  warn(\"Float image out of standard range; displaying \"\n",
      "Clipping input data to the valid range for imshow with RGB data ([0..1] for floats or [0..255] for integers).\n"
     ]
    },
    {
     "name": "stdout",
     "output_type": "stream",
     "text": [
      "[[[79. 77. 78.]\n",
      "  [80. 78. 79.]\n",
      "  [80. 78. 79.]\n",
      "  ...\n",
      "  [71. 69. 70.]\n",
      "  [71. 69. 70.]\n",
      "  [73. 71. 72.]]\n",
      "\n",
      " [[80. 78. 79.]\n",
      "  [82. 80. 81.]\n",
      "  [79. 77. 78.]\n",
      "  ...\n",
      "  [73. 71. 72.]\n",
      "  [74. 72. 73.]\n",
      "  [76. 74. 75.]]\n",
      "\n",
      " [[75. 73. 74.]\n",
      "  [76. 74. 75.]\n",
      "  [78. 76. 77.]\n",
      "  ...\n",
      "  [74. 72. 73.]\n",
      "  [73. 71. 72.]\n",
      "  [73. 71. 72.]]\n",
      "\n",
      " ...\n",
      "\n",
      " [[61. 59. 60.]\n",
      "  [63. 61. 62.]\n",
      "  [64. 62. 63.]\n",
      "  ...\n",
      "  [62. 60. 61.]\n",
      "  [62. 60. 61.]\n",
      "  [63. 61. 62.]]\n",
      "\n",
      " [[62. 60. 61.]\n",
      "  [63. 61. 62.]\n",
      "  [65. 63. 64.]\n",
      "  ...\n",
      "  [61. 59. 60.]\n",
      "  [61. 59. 60.]\n",
      "  [61. 59. 60.]]\n",
      "\n",
      " [[64. 62. 63.]\n",
      "  [64. 62. 63.]\n",
      "  [65. 63. 64.]\n",
      "  ...\n",
      "  [62. 60. 61.]\n",
      "  [62. 60. 61.]\n",
      "  [62. 60. 61.]]]\n"
     ]
    },
    {
     "data": {
      "image/png": "[encoded data removed]",
      "text/plain": [
       "<Figure size 432x288 with 2 Axes>"
      ]
     },
     "metadata": {
      "needs_background": "light"
     },
     "output_type": "display_data"
    }
   ],
   "source": [
    "import warnings\n",
    "import numpy as np\n",
    "file = os.path.join(os.path.abspath('.'), '00214.jpg')\n",
    "image = skimage.io.imread(file)\n",
    "if image.ndim != 3 or image.shape[2] != 3:\n",
    "    raise RuntimeError('input image must be in color')\n",
    "# resize\n",
    "image = skimage.transform.resize(image, [256, 256], mode='reflect', anti_aliasing=True)\n",
    "with warnings.catch_warnings():\n",
    "    warnings.simplefilter('ignore')\n",
    "    image = skimage.img_as_ubyte(image)\n",
    "# crop\n",
    "image = image[16:-16, 16:-16]\n",
    "# subtract the mean\n",
    "image = image.astype(np.float32) - np.array([124., 117., 104.], dtype=np.float32)\n",
    "# RGB to BGR\n",
    "image = image[:, :, ::-1]\n",
    "print(image)\n",
    "io.imshow(image)\n",
    "io.show()"
   ]
  },
  {
   "cell_type": "code",
   "execution_count": 20,
   "metadata": {},
   "outputs": [
    {
     "name": "stderr",
     "output_type": "stream",
     "text": [
      "Clipping input data to the valid range for imshow with RGB data ([0..1] for floats or [0..255] for integers).\n"
     ]
    },
    {
     "name": "stdout",
     "output_type": "stream",
     "text": [
      "[[[  9.   0. -12.]\n",
      "  [ 12.   3.  -9.]\n",
      "  [ 13.   4.  -8.]\n",
      "  ...\n",
      "  [ 17.   3.  -8.]\n",
      "  [ 13.  -1. -12.]\n",
      "  [ 29.  15.   4.]]\n",
      "\n",
      " [[  4.  -5. -17.]\n",
      "  [  7.  -2. -14.]\n",
      "  [  7.  -2. -14.]\n",
      "  ...\n",
      "  [ 23.   9.  -2.]\n",
      "  [ 26.  12.   1.]\n",
      "  [ 31.  17.   6.]]\n",
      "\n",
      " [[  9.   0. -12.]\n",
      "  [ 17.   8.  -4.]\n",
      "  [ 32.  23.  11.]\n",
      "  ...\n",
      "  [ 23.   9.  -2.]\n",
      "  [ 33.  19.   8.]\n",
      "  [ 27.  13.   2.]]\n",
      "\n",
      " ...\n",
      "\n",
      " [[ 26.  14.   5.]\n",
      "  [ -4. -14. -23.]\n",
      "  [ -9. -19. -28.]\n",
      "  ...\n",
      "  [ 24.  10.  -1.]\n",
      "  [ 27.  13.   2.]\n",
      "  [ 24.  10.  -1.]]\n",
      "\n",
      " [[ 23.  11.   2.]\n",
      "  [ -3. -14. -23.]\n",
      "  [  0. -10. -19.]\n",
      "  ...\n",
      "  [ 29.  15.   4.]\n",
      "  [ 18.   4.  -7.]\n",
      "  [ 15.   1. -10.]]\n",
      "\n",
      " [[  4.  -8. -17.]\n",
      "  [  0. -10. -19.]\n",
      "  [ 11.   1.  -8.]\n",
      "  ...\n",
      "  [ 17.   3.  -8.]\n",
      "  [  7.  -8. -19.]\n",
      "  [ 13.  -1. -12.]]]\n"
     ]
    },
    {
     "data": {
      "image/png": "[encoded data removed]",
      "text/plain": [
       "<Figure size 432x288 with 2 Axes>"
      ]
     },
     "metadata": {
      "needs_background": "light"
     },
     "output_type": "display_data"
    }
   ],
   "source": [
    "import warnings\n",
    "import numpy as np\n",
    "file = os.path.join(os.path.abspath('.'), '001.jpg')\n",
    "image = skimage.io.imread(file)\n",
    "if image.ndim != 3 or image.shape[2] != 3:\n",
    "    raise RuntimeError('input image must be in color')\n",
    "# resize\n",
    "image = skimage.transform.resize(image, [256, 256], mode='reflect', anti_aliasing=True)\n",
    "with warnings.catch_warnings():\n",
    "    warnings.simplefilter('ignore')\n",
    "    image = skimage.img_as_ubyte(image)\n",
    "# crop\n",
    "image = image[16:-16, 16:-16]\n",
    "# subtract the mean\n",
    "image = image.astype(np.float32) - np.array([124., 117., 104.], dtype=np.float32)\n",
    "# RGB to BGR\n",
    "image = image[:, :, ::-1]\n",
    "print(image)\n",
    "io.imshow(image)\n",
    "io.show()"
   ]
  },
  {
   "cell_type": "code",
   "execution_count": 22,
   "metadata": {},
   "outputs": [
    {
     "name": "stderr",
     "output_type": "stream",
     "text": [
      "Clipping input data to the valid range for imshow with RGB data ([0..1] for floats or [0..255] for integers).\n"
     ]
    },
    {
     "name": "stdout",
     "output_type": "stream",
     "text": [
      "[[[ 23.  13.   7.]\n",
      "  [ 23.  12.   6.]\n",
      "  [ 35.  22.  16.]\n",
      "  ...\n",
      "  [ 52.  45.  45.]\n",
      "  [ 49.  41.  42.]\n",
      "  [ 46.  39.  39.]]\n",
      "\n",
      " [[ 27.  16.  10.]\n",
      "  [ 24.  13.   7.]\n",
      "  [ 33.  22.  16.]\n",
      "  ...\n",
      "  [ 61.  58.  55.]\n",
      "  [ 50.  42.  40.]\n",
      "  [ 40.  31.  30.]]\n",
      "\n",
      " [[ 20.   9.   3.]\n",
      "  [ 20.   9.   3.]\n",
      "  [ 20.   9.   3.]\n",
      "  ...\n",
      "  [ 63.  59.  56.]\n",
      "  [ 57.  50.  48.]\n",
      "  [ 42.  34.  33.]]\n",
      "\n",
      " ...\n",
      "\n",
      " [[ 34.  22.  19.]\n",
      "  [ 54.  43.  40.]\n",
      "  [ 56.  46.  43.]\n",
      "  ...\n",
      "  [ 88.  81.  79.]\n",
      "  [ 88.  81.  81.]\n",
      "  [ 84.  78.  79.]]\n",
      "\n",
      " [[ 40.  29.  29.]\n",
      "  [ 39.  29.  27.]\n",
      "  [ 45.  35.  32.]\n",
      "  ...\n",
      "  [ 97.  90.  87.]\n",
      "  [102.  95.  95.]\n",
      "  [ 90.  85.  86.]]\n",
      "\n",
      " [[ 33.  27.  33.]\n",
      "  [ 34.  25.  25.]\n",
      "  [ 49.  39.  36.]\n",
      "  ...\n",
      "  [ 93.  85.  83.]\n",
      "  [ 90.  86.  86.]\n",
      "  [ 87.  84.  87.]]]\n"
     ]
    },
    {
     "data": {
      "image/png": "[encoded data removed]",
      "text/plain": [
       "<Figure size 432x288 with 2 Axes>"
      ]
     },
     "metadata": {
      "needs_background": "light"
     },
     "output_type": "display_data"
    }
   ],
   "source": [
    "import warnings\n",
    "import numpy as np\n",
    "file = os.path.join(os.path.abspath('.'), '122.jpg')\n",
    "image = skimage.io.imread(file)\n",
    "if image.ndim != 3 or image.shape[2] != 3:\n",
    "    raise RuntimeError('input image must be in color')\n",
    "# resize\n",
    "image = skimage.transform.resize(image, [256, 256], mode='reflect', anti_aliasing=True)\n",
    "with warnings.catch_warnings():\n",
    "    warnings.simplefilter('ignore')\n",
    "    image = skimage.img_as_ubyte(image)\n",
    "# crop\n",
    "image = image[16:-16, 16:-16]\n",
    "# subtract the mean\n",
    "image = image.astype(np.float32) - np.array([124., 117., 104.], dtype=np.float32)\n",
    "# RGB to BGR\n",
    "image = image[:, :, ::-1]\n",
    "print(image)\n",
    "io.imshow(image)\n",
    "io.show()"
   ]
  },
  {
   "cell_type": "code",
   "execution_count": null,
   "metadata": {},
   "outputs": [],
   "source": []
  }
 ],
 "metadata": {
  "kernelspec": {
   "display_name": "Python 3",
   "language": "python",
   "name": "python3"
  },
  "language_info": {
   "codemirror_mode": {
    "name": "ipython",
    "version": 3
   },
   "file_extension": ".py",
   "mimetype": "text/x-python",
   "name": "python",
   "nbconvert_exporter": "python",
   "pygments_lexer": "ipython3",
   "version": "3.7.4"
  }
 },
 "nbformat": 4,
 "nbformat_minor": 2
}
