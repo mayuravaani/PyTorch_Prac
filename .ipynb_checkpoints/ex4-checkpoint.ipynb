{
 "cells": [
  {
   "cell_type": "code",
   "execution_count": 1,
   "metadata": {},
   "outputs": [
    {
     "name": "stdout",
     "output_type": "stream",
     "text": [
      "nt\n",
      "C:\\Users\\Mayu\\PyTorch_Prac\n",
      "C:\\Users\\Mayu\\PyTorch_Prac\n",
      "['.git', '.ipynb_checkpoints', 'data', 'ex1.ipynb', 'ex2.ipynb', 'ex3.ipynb', 'ex4.ipynb', 'ex5.ipynb', 'hello.txt']\n",
      "problem reading: abc.txt\n",
      "Hi\n"
     ]
    }
   ],
   "source": [
    "# os used to interact with the operating system\n",
    "import os\n",
    "print(os.name) # This function gives the name of the operating system dependent module imported.\n",
    "print(os.getcwd()) # give the current working directory\n",
    "print(os.path.abspath('.')) # give the absolute path\n",
    "print(os.listdir('.')) #print all files in the current directory\n",
    "#os.error- in the case of invalid or inaccessible file names and paths, or other arguments that have the correct type, but are not accepted by the operating system. os.error is an alias for built-in OSError exception.\n",
    "try: \n",
    "    filename = 'abc.txt'\n",
    "    f = open(filename)\n",
    "    text = f.read()\n",
    "    f.close()\n",
    "except IOError:\n",
    "    print('problem reading: ' + filename)\n",
    "# This method opens a pipe to or from command. The return value can be read or written depending on whether mode is ‘r’ or ‘w’.\n",
    "filename = \"hello.txt\"\n",
    "#popen is sam as open\n",
    "file = open(filename, 'w')\n",
    "file.write(\"Hi\")\n",
    "file.close()\n",
    "file = open(filename, 'r')\n",
    "text = file.read()\n",
    "print(text)\n",
    "\n",
    "file = os. popen(filename, 'w')\n",
    "file.write(\"Hello\")\n",
    "#  A file opened using open(), can be closed by close()only. But file opened through os.popen(), can be closed with close() or os.close(). If we try closing a file opened with open(), using os.close(), Python would throw TypeError.\n",
    "file.close() "
   ]
  },
  {
   "cell_type": "code",
   "execution_count": 2,
   "metadata": {},
   "outputs": [],
   "source": [
    "#  A file old.txt can be renamed to new.txt, using the function os.rename(). The name of the file changes only if, the file exists and user has sufficient privilege permission to change the file.\n",
    "fd = \"hello.txt\"\n",
    "os.rename(fd,'new.txt') \n",
    "os.rename('new.txt',fd) "
   ]
  },
  {
   "cell_type": "code",
   "execution_count": 9,
   "metadata": {},
   "outputs": [
    {
     "name": "stdout",
     "output_type": "stream",
     "text": [
      "0    1\n",
      "1    2\n",
      "2    3\n",
      "3    4\n",
      "4    5\n",
      "dtype: int64\n",
      "a    1\n",
      "b    2\n",
      "c    3\n",
      "d    4\n",
      "e    5\n",
      "dtype: int64\n",
      "a    1\n",
      "b    2\n",
      "c    3\n",
      "dtype: int64\n",
      "0    [2, 3, 4]\n",
      "1    [5, 6, 7]\n",
      "dtype: object\n"
     ]
    }
   ],
   "source": [
    "# pandas - python library used for data analysis\n",
    "''' we can analyze data in pandas with Series and DataFrames\n",
    "Series\n",
    "Series is 1-D array defined in pandas that can be used to store any data type.\n",
    "DataFrames\n",
    "DataFrame is 2-D data structure defined in pandas that consists of rows and columns.\n",
    "Creating series\n",
    "    Data can be scalar value which can be integer value, string\n",
    "    Python Dictionary which can be key, value pair\n",
    "    Ndarray \n",
    "    \n",
    "Creating DataFrames\n",
    "    dictionaries\n",
    "    series\n",
    "    2D-numpy array'''\n",
    "import pandas as pd\n",
    "Data = [1, 2, 3, 4, 5]\n",
    "s = pd.Series(Data)\n",
    "print(s)\n",
    "Index =['a', 'b', 'c', 'd', 'e']\n",
    "si = pd.Series(Data, Index)\n",
    "print(si) \n",
    "dictionary = {'a':1, 'b':2, 'c':3}\n",
    "sd = pd.Series(dictionary)\n",
    "print(sd)\n",
    "Data2 = [[2, 3, 4], [5, 6, 7]]\n",
    "snd = pd.Series(Data2)\n",
    "print(snd)"
   ]
  },
  {
   "cell_type": "code",
   "execution_count": null,
   "metadata": {},
   "outputs": [],
   "source": [
    "a = pd.DataFrame(Data)\n"
   ]
  }
 ],
 "metadata": {
  "kernelspec": {
   "display_name": "Python 3",
   "language": "python",
   "name": "python3"
  },
  "language_info": {
   "codemirror_mode": {
    "name": "ipython",
    "version": 3
   },
   "file_extension": ".py",
   "mimetype": "text/x-python",
   "name": "python",
   "nbconvert_exporter": "python",
   "pygments_lexer": "ipython3",
   "version": "3.7.4"
  }
 },
 "nbformat": 4,
 "nbformat_minor": 2
}
