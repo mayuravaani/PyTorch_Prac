{
 "cells": [
  {
   "cell_type": "code",
   "execution_count": 1,
   "metadata": {},
   "outputs": [
    {
     "name": "stdout",
     "output_type": "stream",
     "text": [
      "1.404651423032895\n"
     ]
    }
   ],
   "source": [
    "import numpy as np\n",
    "import pandas as pd\n",
    "# importing the model\n",
    "from sklearn.linear_model import LinearRegression\n",
    "#from sklearn.cross_validation import train_test_split  -- not worked\n",
    "from sklearn.model_selection import train_test_split\n",
    "# importing the module for calculating the performance metrics of the model\n",
    "from sklearn import metrics\n",
    "data_path = 'Advertising.csv' # loading the advertising dataset\n",
    "data = pd.read_csv(data_path, index_col=0)\n",
    "array_items = ['TV', 'Radio', 'Newspaper'] #creating an array list of the items\n",
    "X = data[array_items] #choosing a subset of the dataset\n",
    "y = data.Sales #sales\n",
    "# dividing X and y into training and testing units\n",
    "X_train, X_test, y_train, y_test = train_test_split(X, y, random_state=1)\n",
    "linearreg = LinearRegression() #applying the linear regression model\n",
    "linearreg.fit(X_train, y_train) #fitting the model to the training data\n",
    "y_predict = linearreg.predict(X_test) #making predictions based on the testing unit\n",
    "print(np.sqrt(metrics.mean_squared_error(y_test, y_predict))) #calculating the RMSE number\n",
    "#output gives the RMSE number as 1.4046514230328955 "
   ]
  },
  {
   "cell_type": "code",
   "execution_count": null,
   "metadata": {},
   "outputs": [],
   "source": []
  }
 ],
 "metadata": {
  "kernelspec": {
   "display_name": "Python 3",
   "language": "python",
   "name": "python3"
  },
  "language_info": {
   "codemirror_mode": {
    "name": "ipython",
    "version": 3
   },
   "file_extension": ".py",
   "mimetype": "text/x-python",
   "name": "python",
   "nbconvert_exporter": "python",
   "pygments_lexer": "ipython3",
   "version": "3.7.4"
  }
 },
 "nbformat": 4,
 "nbformat_minor": 2
}
