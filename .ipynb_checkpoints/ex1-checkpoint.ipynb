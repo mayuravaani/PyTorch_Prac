{
 "cells": [
  {
   "cell_type": "code",
   "execution_count": 1,
   "metadata": {},
   "outputs": [
    {
     "name": "stdout",
     "output_type": "stream",
     "text": [
      "tensor([[9.1837e-39, 4.6837e-39, 9.9184e-39],\n",
      "        [9.0000e-39, 1.0561e-38, 1.0653e-38],\n",
      "        [4.1327e-39, 8.9082e-39, 9.8265e-39],\n",
      "        [9.4592e-39, 1.0561e-38, 1.0653e-38],\n",
      "        [1.0469e-38, 9.5510e-39, 9.0918e-39]])\n"
     ]
    }
   ],
   "source": [
    "''' Numpy- n-dimentional array; it describes collection of items of same type\n",
    "Tensors are similar to Numpy ndarray and it can be used on a GPU.'''\n",
    "import torch\n",
    "#5x3 matrix, uninitialized\n",
    "x = torch.empty(5, 3)\n",
    "print(x)"
   ]
  },
  {
   "cell_type": "code",
   "execution_count": 2,
   "metadata": {},
   "outputs": [
    {
     "name": "stdout",
     "output_type": "stream",
     "text": [
      "tensor([[0.3721, 0.7936],\n",
      "        [0.5788, 0.9205],\n",
      "        [0.8614, 0.5531],\n",
      "        [0.3231, 0.8077],\n",
      "        [0.5045, 0.9356]])\n"
     ]
    }
   ],
   "source": [
    "#randomly initialized 5x2 matrix\n",
    "x = torch.rand(5,2)\n",
    "print(x)"
   ]
  },
  {
   "cell_type": "code",
   "execution_count": 3,
   "metadata": {},
   "outputs": [
    {
     "name": "stdout",
     "output_type": "stream",
     "text": [
      "tensor([[0, 0, 0],\n",
      "        [0, 0, 0],\n",
      "        [0, 0, 0],\n",
      "        [0, 0, 0],\n",
      "        [0, 0, 0]])\n"
     ]
    }
   ],
   "source": [
    "#matrix filled with zero and of dtype long\n",
    "x = torch.zeros(5,3, dtype=torch.long)\n",
    "print(x)"
   ]
  },
  {
   "cell_type": "code",
   "execution_count": 4,
   "metadata": {},
   "outputs": [
    {
     "name": "stdout",
     "output_type": "stream",
     "text": [
      "tensor([1, 2, 4])\n"
     ]
    }
   ],
   "source": [
    "#tensor directly from a data\n",
    "x = torch.tensor([1,2,4])\n",
    "print(x)"
   ]
  },
  {
   "cell_type": "code",
   "execution_count": 9,
   "metadata": {},
   "outputs": [
    {
     "name": "stdout",
     "output_type": "stream",
     "text": [
      "tensor([3.0000, 4.6000])\n"
     ]
    }
   ],
   "source": [
    "#tensor directly from a data\n",
    "x = torch.tensor([3,4.6])\n",
    "print(x)"
   ]
  },
  {
   "cell_type": "code",
   "execution_count": 19,
   "metadata": {},
   "outputs": [
    {
     "name": "stdout",
     "output_type": "stream",
     "text": [
      "tensor([[1., 1., 1.],\n",
      "        [1., 1., 1.],\n",
      "        [1., 1., 1.],\n",
      "        [1., 1., 1.],\n",
      "        [1., 1., 1.]], dtype=torch.float64)\n",
      "tensor([[-2.3057e-01, -9.7886e-01,  1.0976e+00],\n",
      "        [ 1.0826e-01, -2.2126e-05, -9.2005e-02],\n",
      "        [ 9.7086e-01, -1.9753e-01, -5.3979e-01],\n",
      "        [-4.0520e-02,  2.5483e+00,  2.5864e-01],\n",
      "        [ 7.3677e-01,  1.7366e+00, -4.4026e-01]])\n",
      "tensor size torch.Size([5, 3])\n"
     ]
    }
   ],
   "source": [
    "#creaet a tensor based on existing tensor. This method will reuse properties of input tensor.\n",
    "x = x.new_ones(5,3, dtype=torch.double) #new_* takes in sizes\n",
    "print(x)\n",
    "\n",
    "x = torch.randn_like(x, dtype=torch.float)\n",
    "print(x) #result has the same size\n",
    "print(\"tensor size\", x.size()) #its a tuple"
   ]
  },
  {
   "cell_type": "code",
   "execution_count": 22,
   "metadata": {},
   "outputs": [
    {
     "name": "stdout",
     "output_type": "stream",
     "text": [
      "tensor([[ 0.1025, -0.8740,  1.9791],\n",
      "        [ 0.6692,  0.7277,  0.3082],\n",
      "        [ 1.0705,  0.0571,  0.2154],\n",
      "        [-0.0206,  2.8212,  1.0283],\n",
      "        [ 1.5736,  1.7799, -0.4309]])\n",
      "tensor([[ 0.1025, -0.8740,  1.9791],\n",
      "        [ 0.6692,  0.7277,  0.3082],\n",
      "        [ 1.0705,  0.0571,  0.2154],\n",
      "        [-0.0206,  2.8212,  1.0283],\n",
      "        [ 1.5736,  1.7799, -0.4309]])\n"
     ]
    }
   ],
   "source": [
    "#addition - size should be same\n",
    "y = torch.rand(5,3)\n",
    "print(x+y)\n",
    "print(torch.add(x, y))"
   ]
  },
  {
   "cell_type": "code",
   "execution_count": 28,
   "metadata": {},
   "outputs": [
    {
     "name": "stdout",
     "output_type": "stream",
     "text": [
      "tensor([[ 0.1025, -0.8740,  1.9791],\n",
      "        [ 0.6692,  0.7277,  0.3082],\n",
      "        [ 1.0705,  0.0571,  0.2154],\n",
      "        [-0.0206,  2.8212,  1.0283],\n",
      "        [ 1.5736,  1.7799, -0.4309]])\n",
      "tensor([[ 0.1025, -0.8740,  1.9791],\n",
      "        [ 0.6692,  0.7277,  0.3082],\n",
      "        [ 1.0705,  0.0571,  0.2154],\n",
      "        [-0.0206,  2.8212,  1.0283],\n",
      "        [ 1.5736,  1.7799, -0.4309]])\n"
     ]
    }
   ],
   "source": [
    "#providing an output tebnsor as argument\n",
    "result = torch.empty(5,3)\n",
    "torch.add(x, y, out=result)\n",
    "print(result)\n",
    "result = x + y\n",
    "print(result)"
   ]
  },
  {
   "cell_type": "code",
   "execution_count": 29,
   "metadata": {},
   "outputs": [
    {
     "name": "stdout",
     "output_type": "stream",
     "text": [
      "tensor([[ 0.1025, -0.8740,  1.9791],\n",
      "        [ 0.6692,  0.7277,  0.3082],\n",
      "        [ 1.0705,  0.0571,  0.2154],\n",
      "        [-0.0206,  2.8212,  1.0283],\n",
      "        [ 1.5736,  1.7799, -0.4309]])\n"
     ]
    }
   ],
   "source": [
    "# add x to y - y = y+x\n",
    "y.add_(x)\n",
    "print(y)"
   ]
  },
  {
   "cell_type": "code",
   "execution_count": 35,
   "metadata": {},
   "outputs": [
    {
     "name": "stdout",
     "output_type": "stream",
     "text": [
      "tensor([[-0.9288,  0.7366, -1.8431],\n",
      "        [ 1.1022,  0.9020, -1.4837],\n",
      "        [ 0.0830,  0.4204, -0.4844],\n",
      "        [ 0.1944, -0.0662,  0.4846],\n",
      "        [ 1.5103,  1.3051, -0.2078]])\n",
      "tensor([[ 0.1025, -0.8740,  1.9791],\n",
      "        [ 0.6692,  0.7277,  0.3082],\n",
      "        [ 1.0705,  0.0571,  0.2154],\n",
      "        [-0.0206,  2.8212,  1.0283],\n",
      "        [ 1.5736,  1.7799, -0.4309]])\n",
      "tensor([[ 0.1025, -0.8740,  1.9791],\n",
      "        [ 0.6692,  0.7277,  0.3082],\n",
      "        [ 1.0705,  0.0571,  0.2154],\n",
      "        [-0.0206,  2.8212,  1.0283],\n",
      "        [ 1.5736,  1.7799, -0.4309]])\n"
     ]
    }
   ],
   "source": [
    "x = torch.randn(5,3)\n",
    "print(x)\n",
    "x.copy_(y) # copy y to x\n",
    "print(x)\n",
    "print(y)"
   ]
  },
  {
   "cell_type": "code",
   "execution_count": 38,
   "metadata": {},
   "outputs": [
    {
     "name": "stdout",
     "output_type": "stream",
     "text": [
      "tensor([[ 0.1025,  0.6692,  1.0705, -0.0206,  1.5736],\n",
      "        [-0.8740,  0.7277,  0.0571,  2.8212,  1.7799],\n",
      "        [ 1.9791,  0.3082,  0.2154,  1.0283, -0.4309]])\n"
     ]
    }
   ],
   "source": [
    "#transpose\n",
    "print(x.t_())"
   ]
  },
  {
   "cell_type": "code",
   "execution_count": 43,
   "metadata": {},
   "outputs": [
    {
     "name": "stdout",
     "output_type": "stream",
     "text": [
      "tensor([-0.8740,  0.7277,  0.0571,  2.8212,  1.7799])\n",
      "tensor([0.6692, 0.7277, 0.3082])\n"
     ]
    }
   ],
   "source": [
    "print(x[:, 1]) #index 1 column of x\n",
    "print(y[1, :]) #index 1 row of y"
   ]
  },
  {
   "cell_type": "code",
   "execution_count": 59,
   "metadata": {},
   "outputs": [
    {
     "name": "stdout",
     "output_type": "stream",
     "text": [
      "x:  tensor([[-2.7638, -0.6648, -0.6782, -0.4232],\n",
      "        [ 0.8681, -0.0052, -1.6774,  1.0863],\n",
      "        [ 1.0276, -0.8666, -0.5986,  0.0379],\n",
      "        [-0.4899,  1.3732, -1.8430,  0.9347]])\n",
      "y:  tensor([-2.7638, -0.6648, -0.6782, -0.4232,  0.8681, -0.0052, -1.6774,  1.0863,\n",
      "         1.0276, -0.8666, -0.5986,  0.0379, -0.4899,  1.3732, -1.8430,  0.9347])\n",
      "y:  tensor([[-2.7638, -0.6648, -0.6782, -0.4232,  0.8681, -0.0052, -1.6774,  1.0863,\n",
      "          1.0276, -0.8666, -0.5986,  0.0379, -0.4899,  1.3732, -1.8430,  0.9347]])\n",
      "y:  tensor([[-2.7638],\n",
      "        [-0.6648],\n",
      "        [-0.6782],\n",
      "        [-0.4232],\n",
      "        [ 0.8681],\n",
      "        [-0.0052],\n",
      "        [-1.6774],\n",
      "        [ 1.0863],\n",
      "        [ 1.0276],\n",
      "        [-0.8666],\n",
      "        [-0.5986],\n",
      "        [ 0.0379],\n",
      "        [-0.4899],\n",
      "        [ 1.3732],\n",
      "        [-1.8430],\n",
      "        [ 0.9347]])\n",
      "z:  tensor([[-2.7638, -0.6648, -0.6782, -0.4232,  0.8681, -0.0052, -1.6774,  1.0863],\n",
      "        [ 1.0276, -0.8666, -0.5986,  0.0379, -0.4899,  1.3732, -1.8430,  0.9347]])\n",
      "torch.Size([4, 4]) torch.Size([16, 1]) torch.Size([2, 8])\n"
     ]
    }
   ],
   "source": [
    "# to resize/ reshape tensor - torch.view\n",
    "x = torch.randn(4, 4)\n",
    "y = x.view(16) # 1X16\n",
    "print(\"x: \", x)\n",
    "print(\"y: \", y)\n",
    "y = x.view(1,-1) # 1x16\n",
    "print(\"y: \", y)\n",
    "y = x.view(-1,1) # 16x1 (-1 indicates balance dimension = 16)\n",
    "print(\"y: \", y)\n",
    "z = x.view(-1, 8)\n",
    "print(\"z: \", z)\n",
    "print(x.size(), y.size(), z.size())"
   ]
  },
  {
   "cell_type": "code",
   "execution_count": 62,
   "metadata": {},
   "outputs": [
    {
     "name": "stdout",
     "output_type": "stream",
     "text": [
      "tensor([0.9947])\n",
      "0.994657039642334\n"
     ]
    }
   ],
   "source": [
    "# if one element tensor, use .item() to get the values as python number.\n",
    "# only one element tensors can be converted to Python scalars\n",
    "x = torch.randn(1)\n",
    "print(x)\n",
    "print(x.item())"
   ]
  },
  {
   "cell_type": "code",
   "execution_count": 63,
   "metadata": {},
   "outputs": [
    {
     "name": "stdout",
     "output_type": "stream",
     "text": [
      "tensor([1., 1., 1., 1., 1.])\n"
     ]
    }
   ],
   "source": [
    "a = torch.ones(5)\n",
    "print(a)"
   ]
  },
  {
   "cell_type": "code",
   "execution_count": 64,
   "metadata": {},
   "outputs": [
    {
     "name": "stdout",
     "output_type": "stream",
     "text": [
      "[1. 1. 1. 1. 1.]\n"
     ]
    }
   ],
   "source": [
    "b = a.numpy() # change tensor as numpy array\n",
    "print(b)"
   ]
  },
  {
   "cell_type": "code",
   "execution_count": 65,
   "metadata": {},
   "outputs": [
    {
     "name": "stdout",
     "output_type": "stream",
     "text": [
      "tensor([2., 2., 2., 2., 2.])\n",
      "[2. 2. 2. 2. 2.]\n"
     ]
    }
   ],
   "source": [
    "a.add_(1) # add 1 to all the index values\n",
    "print(a)\n",
    "print(b)"
   ]
  },
  {
   "cell_type": "code",
   "execution_count": 67,
   "metadata": {},
   "outputs": [
    {
     "name": "stdout",
     "output_type": "stream",
     "text": [
      "[1. 1. 1. 1. 1.]\n",
      "tensor([1., 1., 1., 1., 1.], dtype=torch.float64)\n"
     ]
    }
   ],
   "source": [
    "import numpy\n",
    "a = numpy.ones(5)\n",
    "b = torch.from_numpy(a)\n",
    "print(a)\n",
    "print(b)"
   ]
  },
  {
   "cell_type": "code",
   "execution_count": 69,
   "metadata": {},
   "outputs": [
    {
     "name": "stdout",
     "output_type": "stream",
     "text": [
      "tensor([1., 1., 1., 1., 1.], dtype=torch.float64)\n"
     ]
    }
   ],
   "source": [
    "b.type(torch.int32) # to change the data type of a defined tensor\n",
    "print(b)"
   ]
  },
  {
   "cell_type": "code",
   "execution_count": 71,
   "metadata": {},
   "outputs": [
    {
     "name": "stdout",
     "output_type": "stream",
     "text": [
      "8\n",
      "10\n"
     ]
    }
   ],
   "source": [
    "y = 1\n",
    "x = 5\n",
    "y = x + 5\n",
    "x = y\n",
    "x = 8\n",
    "print(x)\n",
    "print(y)"
   ]
  },
  {
   "cell_type": "code",
   "execution_count": 77,
   "metadata": {},
   "outputs": [
    {
     "name": "stdout",
     "output_type": "stream",
     "text": [
      "8\n",
      "11.0\n"
     ]
    }
   ],
   "source": [
    "y = torch.ones(1)\n",
    "x = torch.tensor([5])\n",
    "y.add_(x+5) # y + x + 5\n",
    "x = y.numpy()\n",
    "x = torch.tensor([8])\n",
    "print(x.item())\n",
    "print(y.item())"
   ]
  },
  {
   "cell_type": "code",
   "execution_count": 97,
   "metadata": {},
   "outputs": [
    {
     "name": "stdout",
     "output_type": "stream",
     "text": [
      "1\n",
      "1\n",
      "8\n",
      "10\n"
     ]
    }
   ],
   "source": [
    "b = torch.ones(1, dtype=torch.int32)\n",
    "print(b.item())\n",
    "a = torch.tensor([5], dtype=torch.int32).numpy()\n",
    "print(b.item())\n",
    "b = a + torch.tensor([5]).numpy()\n",
    "a = b\n",
    "a = torch.tensor([8])\n",
    "print(a.item())\n",
    "print(b.item())"
   ]
  },
  {
   "cell_type": "code",
   "execution_count": 4,
   "metadata": {},
   "outputs": [
    {
     "name": "stdout",
     "output_type": "stream",
     "text": [
      "tensor([-0.7945], device='cuda:0')\n",
      "tensor([-0.7945], dtype=torch.float64)\n"
     ]
    }
   ],
   "source": [
    "#Cuda Tensors\n",
    "x = torch.randn(1)\n",
    "\n",
    "if torch.cuda.is_available():\n",
    "    device = torch.device(\"cuda\")          # a CUDA device object\n",
    "    y = torch.ones_like(x, device=device)  # directly create a tensor on GPU\n",
    "    x = x.to(device)                       # or just use strings ``.to(\"cuda\")``\n",
    "    z = x + y\n",
    "    print(z)\n",
    "    print(z.to(\"cpu\", torch.double)) "
   ]
  },
  {
   "cell_type": "code",
   "execution_count": null,
   "metadata": {},
   "outputs": [],
   "source": []
  }
 ],
 "metadata": {
  "kernelspec": {
   "display_name": "Python 3",
   "language": "python",
   "name": "python3"
  },
  "language_info": {
   "codemirror_mode": {
    "name": "ipython",
    "version": 3
   },
   "file_extension": ".py",
   "mimetype": "text/x-python",
   "name": "python",
   "nbconvert_exporter": "python",
   "pygments_lexer": "ipython3",
   "version": "3.7.4"
  }
 },
 "nbformat": 4,
 "nbformat_minor": 2
}
